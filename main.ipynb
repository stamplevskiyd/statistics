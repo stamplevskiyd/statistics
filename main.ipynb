{
 "cells": [
  {
   "cell_type": "code",
   "id": "initial_id",
   "metadata": {
    "collapsed": true,
    "ExecuteTime": {
     "end_time": "2024-05-21T16:10:06.565284Z",
     "start_time": "2024-05-21T16:10:06.563473Z"
    }
   },
   "source": [
    "import numpy as np\n",
    "import pandas as pd\n",
    "import matplotlib.pyplot as plt\n"
   ],
   "outputs": [],
   "execution_count": 138
  },
  {
   "metadata": {},
   "cell_type": "markdown",
   "source": "# Загрузка данных, добавление столбца приращения",
   "id": "700e8028f8dd76c8"
  },
  {
   "metadata": {},
   "cell_type": "markdown",
   "source": [
    "В качестве данных был выбран курс доллара к евро с интервалом 4 часа.\n",
    "Open -- курс (сколько долларов стоит 1 евро) на момент начала рассматриваемого часа. Будем работать с этими значениями.\n",
    "delta -- разница в цене рассматриваемого часа с предыдущим. Из выборки было взято 10000 значений, идущих подряд."
   ],
   "id": "d46ff5f3f69eb74e"
  },
  {
   "metadata": {
    "ExecuteTime": {
     "end_time": "2024-05-21T16:10:06.603971Z",
     "start_time": "2024-05-21T16:10:06.583418Z"
    }
   },
   "cell_type": "code",
   "source": [
    "currency_data: pd.DataFrame = pd.read_csv(\"EURUSD_H4.csv\", sep=\"\\t\", usecols=[\"Time\", \"Open\"])\n",
    "currency_data[\"delta\"] = currency_data[\"Open\"].shift(1) - currency_data[\"Open\"]\n",
    "currency_data = currency_data.fillna(value=0)\n",
    "\n",
    "# Перемешаем delta\n",
    "currency_data = currency_data.iloc[np.random.permutation(len(currency_data))]\n",
    "\n",
    "data: np.ndarray = currency_data[\"delta\"].iloc[:2500]"
   ],
   "id": "5fe335d8db604fdf",
   "outputs": [],
   "execution_count": 139
  },
  {
   "metadata": {},
   "cell_type": "markdown",
   "source": "# Гистограмма для delta",
   "id": "ff9d03bd4eb8abf7"
  },
  {
   "metadata": {},
   "cell_type": "markdown",
   "source": [
    "Гистограмма для распределения delta. Столбец -- число записей, попавших в интервал, число интервалов -- 100. \n",
    "Строится автоматически, здесь не было задания строить гистограмму вручную"
   ],
   "id": "2ae842091a72f46d"
  },
  {
   "metadata": {
    "ExecuteTime": {
     "end_time": "2024-05-21T16:10:06.689125Z",
     "start_time": "2024-05-21T16:10:06.604972Z"
    }
   },
   "cell_type": "code",
   "source": [
    "segments_count: int = 100\n",
    "delta_min: float = np.min(data)\n",
    "delta_max: float = np.max(data)\n",
    "\n",
    "intervals: np.ndarray = np.linspace(delta_min, delta_max, segments_count)\n",
    "\n",
    "plt.hist(currency_data[\"delta\"], bins=intervals, color='skyblue', edgecolor='black', density=True)\n",
    "# density -- нормировка, чтобы сумма площадей столбцов была равна 1\n",
    " \n",
    "# Adding labels and title\n",
    "plt.xlabel('Значения приращения')\n",
    "plt.ylabel('Сколько раз такое значение встретилось')\n",
    "plt.title('Гистограмма приращений')\n",
    " \n",
    "# Display the plot\n",
    "plt.show()"
   ],
   "id": "b739c453dfbd39f0",
   "outputs": [
    {
     "data": {
      "text/plain": [
       "<Figure size 640x480 with 1 Axes>"
      ],
      "image/png": "[encoded data removed]"
     },
     "metadata": {},
     "output_type": "display_data"
    }
   ],
   "execution_count": 140
  },
  {
   "metadata": {},
   "cell_type": "markdown",
   "source": "",
   "id": "d28fb971b4f3d7b0"
  },
  {
   "metadata": {},
   "cell_type": "markdown",
   "source": "Визуально больше всего похоже на распределение Лапласа. Но проверим позднее",
   "id": "6e56f8c472bd909e"
  },
  {
   "metadata": {},
   "cell_type": "markdown",
   "source": "# Ядерная оценка плотности",
   "id": "be2ac9c185a62ee4"
  },
  {
   "metadata": {},
   "cell_type": "markdown",
   "source": [
    "Формула:\n",
    "$f_n(x) = \\frac{1}{nh_n} \\sum_{i=1}^{i=n}g(\\frac{x-x_i}{h_n})$\n",
    "\n",
    "$n -число \\ интервалов$\n",
    "\n",
    "$f_n(x) -оценка \\ плотности$\n",
    "\n",
    "$h_n -интервал, \\ все \\ интервалы \\ берутся \\ одинаковые \\ и \\ можно \\ использовать \\ просто \\ h$\n",
    "\n",
    "$g - плотность \\ известной \\ функции, g(x) = G^'(x), G(x) - ядро$"
   ],
   "id": "7a3e33edc2cce24d"
  },
  {
   "metadata": {},
   "cell_type": "markdown",
   "source": [
    "В курсе упоминалось, что в качестве G часто берут стандартную нормальную функцию распределения. Начнем с нее же.\n",
    "\n",
    "Тогда \n",
    "\n",
    "$g(x) = \\frac{1}{\\sqrt{2\\pi}}e^{-\\frac{1}{2}x^2}$"
   ],
   "id": "3ec674855c58e9e2"
  },
  {
   "metadata": {},
   "cell_type": "markdown",
   "source": "Теперь посчитаем. Интервалы берем одинаковые, за левую и правую грани -- минимальные и максимальные значения delta, размер интервала задаем числом n.",
   "id": "207a20a552beaca0"
  },
  {
   "metadata": {},
   "cell_type": "markdown",
   "source": "Вычисляем минимум, максимум и размер интервала по заданному n",
   "id": "e212c188a66cfee2"
  },
  {
   "metadata": {
    "ExecuteTime": {
     "end_time": "2024-05-21T16:10:06.692074Z",
     "start_time": "2024-05-21T16:10:06.689898Z"
    }
   },
   "cell_type": "code",
   "source": [
    "segments_count: int = 100\n",
    "delta_min: float = np.min(data)\n",
    "delta_max: float = np.max(data)\n",
    "\n",
    "intervals: np.ndarray = np.linspace(delta_min, delta_max, segments_count)\n",
    "segment_size: float = (delta_max - delta_min) / segments_count"
   ],
   "id": "e722748db7007b3f",
   "outputs": [],
   "execution_count": 141
  },
  {
   "metadata": {},
   "cell_type": "markdown",
   "source": "Функция вычисления плотности стандартного нормального распределения",
   "id": "faca0b36e1b2a8e7"
  },
  {
   "metadata": {
    "ExecuteTime": {
     "end_time": "2024-05-21T16:10:06.695708Z",
     "start_time": "2024-05-21T16:10:06.693859Z"
    }
   },
   "cell_type": "code",
   "source": [
    "def std_norm_density(x: float) -> float:\n",
    "    \"\"\"Функция плотности стандартного нормального распределения\"\"\"\n",
    "    return (1 / np.sqrt(2 * np.pi)) * np.exp(-0.5 * (x ** 2))"
   ],
   "id": "68253871a378097c",
   "outputs": [],
   "execution_count": 142
  },
  {
   "metadata": {},
   "cell_type": "markdown",
   "source": "Вычисление плотности по формуле выше",
   "id": "d88aee2d6a3b01ec"
  },
  {
   "metadata": {
    "ExecuteTime": {
     "end_time": "2024-05-21T16:10:06.708306Z",
     "start_time": "2024-05-21T16:10:06.696392Z"
    }
   },
   "cell_type": "code",
   "source": [
    "kde_values: np.ndarray = np.zeros_like(intervals)\n",
    "for x in data:\n",
    "    kde_values += std_norm_density((intervals - x) / segment_size)\n",
    "\n",
    "kde_values /= (segment_size * len(data))\n"
   ],
   "id": "ab2336ed64e5c107",
   "outputs": [],
   "execution_count": 143
  },
  {
   "metadata": {},
   "cell_type": "markdown",
   "source": "График полученной плотности и график delta",
   "id": "31425265abfeef8b"
  },
  {
   "metadata": {
    "ExecuteTime": {
     "end_time": "2024-05-21T16:10:06.872937Z",
     "start_time": "2024-05-21T16:10:06.708932Z"
    }
   },
   "cell_type": "code",
   "source": [
    "# Построение графика\n",
    "segments_count: int = 100\n",
    "delta_min: float = np.min(data)\n",
    "delta_max: float = np.max(data)\n",
    "\n",
    "intervals: np.ndarray = np.linspace(delta_min, delta_max, segments_count)\n",
    "\n",
    "plt.figure(figsize=(10, 6))\n",
    "plt.plot(intervals, kde_values, color=\"red\", label='Ядерная оценка плотности')\n",
    "plt.hist(data, bins=intervals, color='skyblue', edgecolor='black', density=True)\n",
    "plt.xlabel('Delta')\n",
    "plt.ylabel('Плотность')\n",
    "plt.title('Ядерная оценка плотности для delta')\n",
    "plt.legend()\n",
    "plt.show()"
   ],
   "id": "380d98b05530e173",
   "outputs": [
    {
     "data": {
      "text/plain": [
       "<Figure size 1000x600 with 1 Axes>"
      ],
      "image/png": "[encoded data removed]"
     },
     "metadata": {},
     "output_type": "display_data"
    }
   ],
   "execution_count": 144
  },
  {
   "metadata": {},
   "cell_type": "markdown",
   "source": "Чем меньше интервалов, тем плавнее график. Чем их больше, тем больше он похож на гистограмму со слишком большим числом сегментов (что логично, в общем-то)",
   "id": "306377dc14f26ae9"
  },
  {
   "metadata": {},
   "cell_type": "markdown",
   "source": "# Проверка принадлежности стандартному распределению, метод максимального правдоподобия",
   "id": "b6a4a735db85b966"
  },
  {
   "metadata": {},
   "cell_type": "markdown",
   "source": [
    "Первая гипотеза -- выборка изменений цен евро в долларах имеет нормальное распределение.\n",
    "Для начала нужно оценить параметры выборки методом максимального правдоподобия."
   ],
   "id": "1b68ecfc3b3755a4"
  },
  {
   "metadata": {},
   "cell_type": "markdown",
   "source": [
    "Для начала вычислим математическое ожидание (a) и дисперсию ($\\sigma^2$) методом максимального правдоподобия.\n",
    "\n",
    "Если $\\( X_1, X_2, \\ldots, X_n \\)$ — независимые одинаково распределенные случайные величины с нормальным распределением $\\( N(a, \\sigma^2) \\)$, то функция правдоподобия для этих данных определяется как произведение плотностей вероятности для каждого наблюдения:\n",
    "\n",
    "$\\[L(a, \\sigma^2 \\mid X_1, X_2, \\ldots, X_n) = \\prod_{i=1}^n f(X_i \\mid a, \\sigma^2)\\]$\n",
    "\n",
    "где $\\( f(X_i \\mid a, \\sigma^2) \\)$ — плотность нормального распределения:\n",
    "\n",
    "$\\[f(X_i \\mid a, \\sigma^2) = \\frac{1}{\\sqrt{2\\pi\\sigma^2}} \\exp\\left( -\\frac{(X_i - a)^2}{2\\sigma^2} \\right)\\]$\n",
    "\n",
    "Таким образом, функция правдоподобия имеет вид:\n",
    "\n",
    "$\\[L(a, \\sigma^2) = \\left( \\frac{1}{\\sqrt{2\\pi\\sigma^2}} \\right)^n \\exp\\left( -\\sum_{i=1}^n \\frac{(X_i - a)^2}{2\\sigma^2} \\right)\\]$\n",
    "\n",
    "Логарифм функции правдоподобия (логарифмическая функция правдоподобия) удобнее максимизировать:\n",
    "\n",
    "$\\[\\ln L(a, \\sigma^2) = -\\frac{n}{2} \\ln (2\\pi) - \\frac{n}{2} \\ln (\\sigma^2) - \\frac{1}{2\\sigma^2} \\sum_{i=1}^n (X_i - a)^2\\]$\n",
    "\n",
    "\n",
    "Для максимизации логарифмической функции правдоподобия нужно взять производные по \\(a\\) и \\(\\sigma^2\\) и приравнять их к нулю.\n",
    "\n",
    "**Для a**:\n",
    "$\\[\\frac{\\partial \\ln L}{\\partial a} = \\frac{1}{\\sigma^2} \\sum_{i=1}^n (X_i - a) = 0\\]$\n",
    "\n",
    "Решая это уравнение, получаем оценку для \\(a\\):\n",
    "\n",
    "$\\[\\hat{a} = \\frac{1}{n} \\sum_{i=1}^n X_i\\]$\n",
    "\n",
    "**Для $\\(\\sigma^2\\)$**:\n",
    "\n",
    "$\\[\\frac{\\partial \\ln L}{\\partial \\sigma^2} = -\\frac{n}{2\\sigma^2} + \\frac{1}{2\\sigma^4} \\sum_{i=1}^n (X_i - a)^2 = 0\\]$\n",
    "\n",
    "Решая это уравнение, получаем оценку для $\\(\\sigma^2\\)$:\n",
    "\n",
    "$\\[\\hat{\\sigma}^2 = \\frac{1}{n} \\sum_{i=1}^n (X_i - \\hat{a})^2\\]$\n",
    "\n",
    "То есть получили стандартные формулы для математического ожидания и дисперсии выборки. Считать их будем через стандартные методы библиотеки. Метод моментов для нормального распределения даст те же формулы.\n"
   ],
   "id": "1ed24e1ec988fcca"
  },
  {
   "metadata": {},
   "cell_type": "markdown",
   "source": "## Вычисление матожидания и дисперсии",
   "id": "3308a9994e16a242"
  },
  {
   "metadata": {
    "ExecuteTime": {
     "end_time": "2024-05-21T16:10:06.876342Z",
     "start_time": "2024-05-21T16:10:06.873733Z"
    }
   },
   "cell_type": "code",
   "source": [
    "# Рассчитываем математическое ожидание (среднее) и дисперсию\n",
    "mean: float = np.mean(data)\n",
    "variance: float = np.var(data)\n",
    "\n",
    "print(\"a=\", mean, \"sigma^2=\", variance)"
   ],
   "id": "dcc6ba7ab2b28378",
   "outputs": [
    {
     "name": "stdout",
     "output_type": "stream",
     "text": [
      "a= 3.219200000000044e-05 sigma^2= 7.710905915135998e-06\n"
     ]
    }
   ],
   "execution_count": 145
  },
  {
   "metadata": {},
   "cell_type": "markdown",
   "source": [
    "## Проверка гипотезы критерием хи-квадрат\n",
    "$$\\[\\nu_i = \\sum_{i=1}^n I(X_j \\in \\delta_i)\\]$$\n",
    "$$p_i = P(X_j \\in \\delta_i), X_j - НОРСВ$$\n",
    "$$\\[\\chi^2 = \\sum_{i=1}^k \\frac{(\\nu_i - np_i)^2}{np_i}\\]$$\n",
    "   "
   ],
   "id": "9905797ebf6e2d9e"
  },
  {
   "metadata": {},
   "cell_type": "markdown",
   "source": "Критерий Пирсона доказан только для интервалов, не зависящих от выборки. Так что возьмем разбиение на N сегментов на интервале, \"на глаз\" покрывающем выборку. $P_i$ -- вероятность попасть в i-й интервал. ",
   "id": "4d6f6cea39600e1a"
  },
  {
   "metadata": {
    "ExecuteTime": {
     "end_time": "2024-05-21T16:10:06.885285Z",
     "start_time": "2024-05-21T16:10:06.877110Z"
    }
   },
   "cell_type": "code",
   "source": [
    "from utils import chi_square\n",
    "\n",
    "# Задаем настройки разбиения\n",
    "left: float = -1\n",
    "right: float = 1\n",
    "segment_count: int = 20\n",
    "\n",
    "# Считаем величину\n",
    "print(chi_square)\n",
    "res: float = chi_square(data, left, right, segment_count)\n",
    "print(res)"
   ],
   "id": "99f81d0a8da64954",
   "outputs": [
    {
     "name": "stdout",
     "output_type": "stream",
     "text": [
      "461.81776357226477\n"
     ]
    },
    {
     "ename": "TypeError",
     "evalue": "'numpy.float64' object is not callable",
     "output_type": "error",
     "traceback": [
      "\u001B[0;31m---------------------------------------------------------------------------\u001B[0m",
      "\u001B[0;31mTypeError\u001B[0m                                 Traceback (most recent call last)",
      "Cell \u001B[0;32mIn[146], line 10\u001B[0m\n\u001B[1;32m      8\u001B[0m \u001B[38;5;66;03m# Считаем величину\u001B[39;00m\n\u001B[1;32m      9\u001B[0m \u001B[38;5;28mprint\u001B[39m(chi_square)\n\u001B[0;32m---> 10\u001B[0m res: \u001B[38;5;28mfloat\u001B[39m \u001B[38;5;241m=\u001B[39m \u001B[43mchi_square\u001B[49m\u001B[43m(\u001B[49m\u001B[43mdata\u001B[49m\u001B[43m,\u001B[49m\u001B[43m \u001B[49m\u001B[43mleft\u001B[49m\u001B[43m,\u001B[49m\u001B[43m \u001B[49m\u001B[43mright\u001B[49m\u001B[43m,\u001B[49m\u001B[43m \u001B[49m\u001B[43msegment_count\u001B[49m\u001B[43m)\u001B[49m\n\u001B[1;32m     11\u001B[0m \u001B[38;5;28mprint\u001B[39m(res)\n",
      "\u001B[0;31mTypeError\u001B[0m: 'numpy.float64' object is not callable"
     ]
    }
   ],
   "execution_count": 146
  },
  {
   "metadata": {},
   "cell_type": "code",
   "source": "",
   "id": "83c4242cc21e9db0",
   "outputs": [],
   "execution_count": null
  }
 ],
 "metadata": {
  "kernelspec": {
   "display_name": "Python 3",
   "language": "python",
   "name": "python3"
  },
  "language_info": {
   "codemirror_mode": {
    "name": "ipython",
    "version": 2
   },
   "file_extension": ".py",
   "mimetype": "text/x-python",
   "name": "python",
   "nbconvert_exporter": "python",
   "pygments_lexer": "ipython2",
   "version": "2.7.6"
  }
 },
 "nbformat": 4,
 "nbformat_minor": 5
}
